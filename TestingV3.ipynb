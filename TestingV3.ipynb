{
 "cells": [
  {
   "cell_type": "code",
   "execution_count": 1,
   "id": "a4ae9e5b",
   "metadata": {},
   "outputs": [],
   "source": [
    "import cv2\n",
    "import numpy as np\n",
    "import os\n",
    "from matplotlib import pyplot as plt\n",
    "import time\n",
    "import mediapipe as mp\n",
    "from tensorflow.keras.models import load_model"
   ]
  },
  {
   "cell_type": "code",
   "execution_count": 2,
   "id": "87be3b96",
   "metadata": {},
   "outputs": [],
   "source": [
    "mp_holistic = mp.solutions.holistic # Holistic model\n",
    "\n",
    "def mediapipe_detection(image, model):\n",
    "    image = cv2.cvtColor(image, cv2.COLOR_BGR2RGB) # COLOR CONVERSION BGR 2 RGB\n",
    "    image.flags.writeable = False                  # Image is no longer writeable\n",
    "    results = model.process(image)                 # Make prediction\n",
    "    image.flags.writeable = True                   # Image is now writeable \n",
    "    image = cv2.cvtColor(image, cv2.COLOR_RGB2BGR) # COLOR COVERSION RGB 2 BGR\n",
    "    return image, results\n",
    "    \n",
    "def extract_keypoints(results):\n",
    "    lh = np.array([[res.x, res.y, res.z] for res in results.left_hand_landmarks.landmark]).flatten() if results.left_hand_landmarks else np.zeros(21*3)\n",
    "    rh = np.array([[res.x, res.y, res.z] for res in results.right_hand_landmarks.landmark]).flatten() if results.right_hand_landmarks else np.zeros(21*3)\n",
    "    return np.concatenate([lh, rh])"
   ]
  },
  {
   "cell_type": "code",
   "execution_count": 3,
   "id": "c79603e4",
   "metadata": {},
   "outputs": [
    {
     "name": "stdout",
     "output_type": "stream",
     "text": [
      "['aku', 'apa', 'bagaimana', 'berapa', 'di', 'F', 'halo', 'I', 'J', 'K', 'kamu', 'kapan', 'ke', 'mana', 'mereka', 'nama', 'saya', 'siapa', 'Y', 'yang']\n"
     ]
    }
   ],
   "source": [
    "directory_path = r\"C:\\Users\\victus\\Documents\\SignLanguage\\MotionDetectionforSIBIv2\\DatasetV2\"\n",
    "\n",
    "doc = []\n",
    "\n",
    "for root, dirs, files in os.walk(directory_path):\n",
    "    doc.extend(dirs)\n",
    "    break \n",
    "print(doc)\n",
    "\n",
    "actions = np.array(doc)"
   ]
  },
  {
   "cell_type": "code",
   "execution_count": 4,
   "id": "ec04f2e1",
   "metadata": {},
   "outputs": [],
   "source": [
    "model = load_model('realtimeV7.h5')"
   ]
  },
  {
   "cell_type": "code",
   "execution_count": 6,
   "id": "5179f32a",
   "metadata": {},
   "outputs": [
    {
     "name": "stdout",
     "output_type": "stream",
     "text": [
      "<class 'mediapipe.python.solution_base.SolutionOutputs'>\n",
      "<class 'mediapipe.python.solution_base.SolutionOutputs'>\n",
      "<class 'mediapipe.python.solution_base.SolutionOutputs'>\n",
      "<class 'mediapipe.python.solution_base.SolutionOutputs'>\n",
      "<class 'mediapipe.python.solution_base.SolutionOutputs'>\n",
      "<class 'mediapipe.python.solution_base.SolutionOutputs'>\n",
      "<class 'mediapipe.python.solution_base.SolutionOutputs'>\n",
      "<class 'mediapipe.python.solution_base.SolutionOutputs'>\n",
      "<class 'mediapipe.python.solution_base.SolutionOutputs'>\n",
      "<class 'mediapipe.python.solution_base.SolutionOutputs'>\n",
      "<class 'mediapipe.python.solution_base.SolutionOutputs'>\n",
      "<class 'mediapipe.python.solution_base.SolutionOutputs'>\n",
      "<class 'mediapipe.python.solution_base.SolutionOutputs'>\n",
      "<class 'mediapipe.python.solution_base.SolutionOutputs'>\n",
      "<class 'mediapipe.python.solution_base.SolutionOutputs'>\n",
      "<class 'mediapipe.python.solution_base.SolutionOutputs'>\n",
      "<class 'mediapipe.python.solution_base.SolutionOutputs'>\n",
      "<class 'mediapipe.python.solution_base.SolutionOutputs'>\n",
      "<class 'mediapipe.python.solution_base.SolutionOutputs'>\n",
      "<class 'mediapipe.python.solution_base.SolutionOutputs'>\n",
      "<class 'mediapipe.python.solution_base.SolutionOutputs'>\n",
      "<class 'mediapipe.python.solution_base.SolutionOutputs'>\n",
      "<class 'mediapipe.python.solution_base.SolutionOutputs'>\n",
      "<class 'mediapipe.python.solution_base.SolutionOutputs'>\n",
      "<class 'mediapipe.python.solution_base.SolutionOutputs'>\n",
      "<class 'mediapipe.python.solution_base.SolutionOutputs'>\n",
      "<class 'mediapipe.python.solution_base.SolutionOutputs'>\n",
      "<class 'mediapipe.python.solution_base.SolutionOutputs'>\n",
      "<class 'mediapipe.python.solution_base.SolutionOutputs'>\n",
      "<class 'mediapipe.python.solution_base.SolutionOutputs'>\n",
      "saya\n",
      "saya (98.62%)\n"
     ]
    },
    {
     "data": {
      "text/plain": [
       "'saya (98.62%)'"
      ]
     },
     "metadata": {},
     "output_type": "display_data"
    },
    {
     "name": "stdout",
     "output_type": "stream",
     "text": [
      "<class 'mediapipe.python.solution_base.SolutionOutputs'>\n",
      "saya\n",
      "saya (98.39%)\n"
     ]
    },
    {
     "data": {
      "text/plain": [
       "'saya (98.39%)'"
      ]
     },
     "metadata": {},
     "output_type": "display_data"
    },
    {
     "name": "stdout",
     "output_type": "stream",
     "text": [
      "<class 'mediapipe.python.solution_base.SolutionOutputs'>\n",
      "saya\n",
      "saya (98.14%)\n"
     ]
    },
    {
     "data": {
      "text/plain": [
       "'saya (98.14%)'"
      ]
     },
     "metadata": {},
     "output_type": "display_data"
    },
    {
     "name": "stdout",
     "output_type": "stream",
     "text": [
      "<class 'mediapipe.python.solution_base.SolutionOutputs'>\n",
      "saya\n",
      "saya (97.87%)\n"
     ]
    },
    {
     "data": {
      "text/plain": [
       "'saya (97.87%)'"
      ]
     },
     "metadata": {},
     "output_type": "display_data"
    },
    {
     "name": "stdout",
     "output_type": "stream",
     "text": [
      "<class 'mediapipe.python.solution_base.SolutionOutputs'>\n",
      "saya\n",
      "saya (97.59%)\n"
     ]
    },
    {
     "data": {
      "text/plain": [
       "'saya (97.59%)'"
      ]
     },
     "metadata": {},
     "output_type": "display_data"
    },
    {
     "name": "stdout",
     "output_type": "stream",
     "text": [
      "<class 'mediapipe.python.solution_base.SolutionOutputs'>\n",
      "saya\n",
      "saya (97.28%)\n"
     ]
    },
    {
     "data": {
      "text/plain": [
       "'saya (97.28%)'"
      ]
     },
     "metadata": {},
     "output_type": "display_data"
    },
    {
     "name": "stdout",
     "output_type": "stream",
     "text": [
      "<class 'mediapipe.python.solution_base.SolutionOutputs'>\n",
      "saya\n",
      "saya (96.95%)\n"
     ]
    },
    {
     "data": {
      "text/plain": [
       "'saya (96.95%)'"
      ]
     },
     "metadata": {},
     "output_type": "display_data"
    },
    {
     "name": "stdout",
     "output_type": "stream",
     "text": [
      "<class 'mediapipe.python.solution_base.SolutionOutputs'>\n",
      "saya\n",
      "saya (96.52%)\n"
     ]
    },
    {
     "data": {
      "text/plain": [
       "'saya (96.52%)'"
      ]
     },
     "metadata": {},
     "output_type": "display_data"
    },
    {
     "name": "stdout",
     "output_type": "stream",
     "text": [
      "<class 'mediapipe.python.solution_base.SolutionOutputs'>\n",
      "saya\n",
      "saya (95.85%)\n"
     ]
    },
    {
     "data": {
      "text/plain": [
       "'saya (95.85%)'"
      ]
     },
     "metadata": {},
     "output_type": "display_data"
    },
    {
     "name": "stdout",
     "output_type": "stream",
     "text": [
      "<class 'mediapipe.python.solution_base.SolutionOutputs'>\n",
      "saya\n",
      "saya (94.97%)\n"
     ]
    },
    {
     "data": {
      "text/plain": [
       "'saya (94.97%)'"
      ]
     },
     "metadata": {},
     "output_type": "display_data"
    },
    {
     "name": "stdout",
     "output_type": "stream",
     "text": [
      "<class 'mediapipe.python.solution_base.SolutionOutputs'>\n",
      "saya\n",
      "saya (93.78%)\n"
     ]
    },
    {
     "data": {
      "text/plain": [
       "'saya (93.78%)'"
      ]
     },
     "metadata": {},
     "output_type": "display_data"
    },
    {
     "name": "stdout",
     "output_type": "stream",
     "text": [
      "<class 'mediapipe.python.solution_base.SolutionOutputs'>\n",
      "saya\n",
      "saya (92.12%)\n"
     ]
    },
    {
     "data": {
      "text/plain": [
       "'saya (92.12%)'"
      ]
     },
     "metadata": {},
     "output_type": "display_data"
    },
    {
     "name": "stdout",
     "output_type": "stream",
     "text": [
      "<class 'mediapipe.python.solution_base.SolutionOutputs'>\n",
      "saya\n",
      "saya (90.24%)\n"
     ]
    },
    {
     "data": {
      "text/plain": [
       "'saya (90.24%)'"
      ]
     },
     "metadata": {},
     "output_type": "display_data"
    },
    {
     "name": "stdout",
     "output_type": "stream",
     "text": [
      "<class 'mediapipe.python.solution_base.SolutionOutputs'>\n",
      "saya\n",
      "saya (88.14%)\n"
     ]
    },
    {
     "data": {
      "text/plain": [
       "'saya (88.14%)'"
      ]
     },
     "metadata": {},
     "output_type": "display_data"
    },
    {
     "name": "stdout",
     "output_type": "stream",
     "text": [
      "<class 'mediapipe.python.solution_base.SolutionOutputs'>\n",
      "saya\n",
      "saya (86.19%)\n"
     ]
    },
    {
     "data": {
      "text/plain": [
       "'saya (86.19%)'"
      ]
     },
     "metadata": {},
     "output_type": "display_data"
    },
    {
     "name": "stdout",
     "output_type": "stream",
     "text": [
      "<class 'mediapipe.python.solution_base.SolutionOutputs'>\n",
      "saya\n",
      "saya (84.50%)\n"
     ]
    },
    {
     "data": {
      "text/plain": [
       "'saya (84.50%)'"
      ]
     },
     "metadata": {},
     "output_type": "display_data"
    },
    {
     "name": "stdout",
     "output_type": "stream",
     "text": [
      "<class 'mediapipe.python.solution_base.SolutionOutputs'>\n",
      "saya\n",
      "saya (83.53%)\n"
     ]
    },
    {
     "data": {
      "text/plain": [
       "'saya (83.53%)'"
      ]
     },
     "metadata": {},
     "output_type": "display_data"
    },
    {
     "name": "stdout",
     "output_type": "stream",
     "text": [
      "<class 'mediapipe.python.solution_base.SolutionOutputs'>\n",
      "saya\n",
      "saya (83.14%)\n"
     ]
    },
    {
     "data": {
      "text/plain": [
       "'saya (83.14%)'"
      ]
     },
     "metadata": {},
     "output_type": "display_data"
    },
    {
     "name": "stdout",
     "output_type": "stream",
     "text": [
      "<class 'mediapipe.python.solution_base.SolutionOutputs'>\n",
      "saya\n",
      "saya (83.97%)\n"
     ]
    },
    {
     "data": {
      "text/plain": [
       "'saya (83.97%)'"
      ]
     },
     "metadata": {},
     "output_type": "display_data"
    },
    {
     "name": "stdout",
     "output_type": "stream",
     "text": [
      "<class 'mediapipe.python.solution_base.SolutionOutputs'>\n",
      "saya\n",
      "saya (85.34%)\n"
     ]
    },
    {
     "data": {
      "text/plain": [
       "'saya (85.34%)'"
      ]
     },
     "metadata": {},
     "output_type": "display_data"
    },
    {
     "name": "stdout",
     "output_type": "stream",
     "text": [
      "<class 'mediapipe.python.solution_base.SolutionOutputs'>\n",
      "saya\n",
      "saya (86.69%)\n"
     ]
    },
    {
     "data": {
      "text/plain": [
       "'saya (86.69%)'"
      ]
     },
     "metadata": {},
     "output_type": "display_data"
    },
    {
     "name": "stdout",
     "output_type": "stream",
     "text": [
      "<class 'mediapipe.python.solution_base.SolutionOutputs'>\n",
      "saya\n",
      "saya (98.62%)\n"
     ]
    },
    {
     "data": {
      "text/plain": [
       "'saya (98.62%)'"
      ]
     },
     "metadata": {},
     "output_type": "display_data"
    },
    {
     "name": "stdout",
     "output_type": "stream",
     "text": [
      "<class 'mediapipe.python.solution_base.SolutionOutputs'>\n",
      "saya\n",
      "saya (99.74%)\n"
     ]
    },
    {
     "data": {
      "text/plain": [
       "'saya (99.74%)'"
      ]
     },
     "metadata": {},
     "output_type": "display_data"
    },
    {
     "name": "stdout",
     "output_type": "stream",
     "text": [
      "<class 'mediapipe.python.solution_base.SolutionOutputs'>\n",
      "saya\n",
      "saya (99.74%)\n"
     ]
    },
    {
     "data": {
      "text/plain": [
       "'saya (99.74%)'"
      ]
     },
     "metadata": {},
     "output_type": "display_data"
    },
    {
     "name": "stdout",
     "output_type": "stream",
     "text": [
      "<class 'mediapipe.python.solution_base.SolutionOutputs'>\n",
      "saya\n",
      "saya (99.74%)\n"
     ]
    },
    {
     "data": {
      "text/plain": [
       "'saya (99.74%)'"
      ]
     },
     "metadata": {},
     "output_type": "display_data"
    },
    {
     "name": "stdout",
     "output_type": "stream",
     "text": [
      "<class 'mediapipe.python.solution_base.SolutionOutputs'>\n",
      "saya\n",
      "saya (99.74%)\n"
     ]
    },
    {
     "data": {
      "text/plain": [
       "'saya (99.74%)'"
      ]
     },
     "metadata": {},
     "output_type": "display_data"
    },
    {
     "name": "stdout",
     "output_type": "stream",
     "text": [
      "<class 'mediapipe.python.solution_base.SolutionOutputs'>\n",
      "saya\n",
      "saya (99.74%)\n"
     ]
    },
    {
     "data": {
      "text/plain": [
       "'saya (99.74%)'"
      ]
     },
     "metadata": {},
     "output_type": "display_data"
    },
    {
     "name": "stdout",
     "output_type": "stream",
     "text": [
      "<class 'mediapipe.python.solution_base.SolutionOutputs'>\n",
      "saya\n",
      "saya (99.74%)\n"
     ]
    },
    {
     "data": {
      "text/plain": [
       "'saya (99.74%)'"
      ]
     },
     "metadata": {},
     "output_type": "display_data"
    },
    {
     "name": "stdout",
     "output_type": "stream",
     "text": [
      "<class 'mediapipe.python.solution_base.SolutionOutputs'>\n",
      "saya\n",
      "saya (99.74%)\n"
     ]
    },
    {
     "data": {
      "text/plain": [
       "'saya (99.74%)'"
      ]
     },
     "metadata": {},
     "output_type": "display_data"
    },
    {
     "name": "stdout",
     "output_type": "stream",
     "text": [
      "<class 'mediapipe.python.solution_base.SolutionOutputs'>\n",
      "saya\n",
      "saya (99.74%)\n"
     ]
    },
    {
     "data": {
      "text/plain": [
       "'saya (99.74%)'"
      ]
     },
     "metadata": {},
     "output_type": "display_data"
    },
    {
     "name": "stdout",
     "output_type": "stream",
     "text": [
      "<class 'mediapipe.python.solution_base.SolutionOutputs'>\n",
      "saya\n",
      "saya (99.74%)\n"
     ]
    },
    {
     "data": {
      "text/plain": [
       "'saya (99.74%)'"
      ]
     },
     "metadata": {},
     "output_type": "display_data"
    },
    {
     "name": "stdout",
     "output_type": "stream",
     "text": [
      "<class 'mediapipe.python.solution_base.SolutionOutputs'>\n",
      "saya\n",
      "saya (99.74%)\n"
     ]
    },
    {
     "data": {
      "text/plain": [
       "'saya (99.74%)'"
      ]
     },
     "metadata": {},
     "output_type": "display_data"
    },
    {
     "name": "stdout",
     "output_type": "stream",
     "text": [
      "<class 'mediapipe.python.solution_base.SolutionOutputs'>\n",
      "saya\n",
      "saya (99.74%)\n"
     ]
    },
    {
     "data": {
      "text/plain": [
       "'saya (99.74%)'"
      ]
     },
     "metadata": {},
     "output_type": "display_data"
    },
    {
     "name": "stdout",
     "output_type": "stream",
     "text": [
      "<class 'mediapipe.python.solution_base.SolutionOutputs'>\n",
      "saya\n",
      "saya (99.74%)\n"
     ]
    },
    {
     "data": {
      "text/plain": [
       "'saya (99.74%)'"
      ]
     },
     "metadata": {},
     "output_type": "display_data"
    },
    {
     "name": "stdout",
     "output_type": "stream",
     "text": [
      "<class 'mediapipe.python.solution_base.SolutionOutputs'>\n",
      "saya\n",
      "saya (99.74%)\n"
     ]
    },
    {
     "data": {
      "text/plain": [
       "'saya (99.74%)'"
      ]
     },
     "metadata": {},
     "output_type": "display_data"
    },
    {
     "name": "stdout",
     "output_type": "stream",
     "text": [
      "<class 'mediapipe.python.solution_base.SolutionOutputs'>\n",
      "saya\n",
      "saya (99.74%)\n"
     ]
    },
    {
     "data": {
      "text/plain": [
       "'saya (99.74%)'"
      ]
     },
     "metadata": {},
     "output_type": "display_data"
    },
    {
     "name": "stdout",
     "output_type": "stream",
     "text": [
      "<class 'mediapipe.python.solution_base.SolutionOutputs'>\n",
      "saya\n",
      "saya (99.74%)\n"
     ]
    },
    {
     "data": {
      "text/plain": [
       "'saya (99.74%)'"
      ]
     },
     "metadata": {},
     "output_type": "display_data"
    },
    {
     "name": "stdout",
     "output_type": "stream",
     "text": [
      "<class 'mediapipe.python.solution_base.SolutionOutputs'>\n",
      "saya\n",
      "saya (99.74%)\n"
     ]
    },
    {
     "data": {
      "text/plain": [
       "'saya (99.74%)'"
      ]
     },
     "metadata": {},
     "output_type": "display_data"
    },
    {
     "name": "stdout",
     "output_type": "stream",
     "text": [
      "<class 'mediapipe.python.solution_base.SolutionOutputs'>\n",
      "saya\n",
      "saya (99.74%)\n"
     ]
    },
    {
     "data": {
      "text/plain": [
       "'saya (99.74%)'"
      ]
     },
     "metadata": {},
     "output_type": "display_data"
    },
    {
     "name": "stdout",
     "output_type": "stream",
     "text": [
      "<class 'mediapipe.python.solution_base.SolutionOutputs'>\n",
      "saya\n",
      "saya (99.74%)\n"
     ]
    },
    {
     "data": {
      "text/plain": [
       "'saya (99.74%)'"
      ]
     },
     "metadata": {},
     "output_type": "display_data"
    },
    {
     "name": "stdout",
     "output_type": "stream",
     "text": [
      "<class 'mediapipe.python.solution_base.SolutionOutputs'>\n",
      "saya\n",
      "saya (99.72%)\n"
     ]
    },
    {
     "data": {
      "text/plain": [
       "'saya (99.72%)'"
      ]
     },
     "metadata": {},
     "output_type": "display_data"
    },
    {
     "name": "stdout",
     "output_type": "stream",
     "text": [
      "<class 'mediapipe.python.solution_base.SolutionOutputs'>\n",
      "saya\n",
      "saya (99.67%)\n"
     ]
    },
    {
     "data": {
      "text/plain": [
       "'saya (99.67%)'"
      ]
     },
     "metadata": {},
     "output_type": "display_data"
    },
    {
     "name": "stdout",
     "output_type": "stream",
     "text": [
      "<class 'mediapipe.python.solution_base.SolutionOutputs'>\n",
      "saya\n",
      "saya (99.56%)\n"
     ]
    },
    {
     "data": {
      "text/plain": [
       "'saya (99.56%)'"
      ]
     },
     "metadata": {},
     "output_type": "display_data"
    },
    {
     "name": "stdout",
     "output_type": "stream",
     "text": [
      "<class 'mediapipe.python.solution_base.SolutionOutputs'>\n",
      "saya\n",
      "saya (99.35%)\n"
     ]
    },
    {
     "data": {
      "text/plain": [
       "'saya (99.35%)'"
      ]
     },
     "metadata": {},
     "output_type": "display_data"
    },
    {
     "name": "stdout",
     "output_type": "stream",
     "text": [
      "<class 'mediapipe.python.solution_base.SolutionOutputs'>\n",
      "saya\n",
      "saya (98.91%)\n"
     ]
    },
    {
     "data": {
      "text/plain": [
       "'saya (98.91%)'"
      ]
     },
     "metadata": {},
     "output_type": "display_data"
    },
    {
     "name": "stdout",
     "output_type": "stream",
     "text": [
      "<class 'mediapipe.python.solution_base.SolutionOutputs'>\n",
      "saya\n",
      "saya (97.86%)\n"
     ]
    },
    {
     "data": {
      "text/plain": [
       "'saya (97.86%)'"
      ]
     },
     "metadata": {},
     "output_type": "display_data"
    },
    {
     "name": "stdout",
     "output_type": "stream",
     "text": [
      "<class 'mediapipe.python.solution_base.SolutionOutputs'>\n",
      "saya\n",
      "saya (94.63%)\n"
     ]
    },
    {
     "data": {
      "text/plain": [
       "'saya (94.63%)'"
      ]
     },
     "metadata": {},
     "output_type": "display_data"
    },
    {
     "name": "stdout",
     "output_type": "stream",
     "text": [
      "<class 'mediapipe.python.solution_base.SolutionOutputs'>\n",
      "saya\n",
      "saya (82.96%)\n"
     ]
    },
    {
     "data": {
      "text/plain": [
       "'saya (82.96%)'"
      ]
     },
     "metadata": {},
     "output_type": "display_data"
    },
    {
     "name": "stdout",
     "output_type": "stream",
     "text": [
      "<class 'mediapipe.python.solution_base.SolutionOutputs'>\n",
      "saya\n",
      "saya (47.15%)\n",
      "<class 'mediapipe.python.solution_base.SolutionOutputs'>\n",
      "J\n",
      "J (75.52%)\n"
     ]
    },
    {
     "data": {
      "text/plain": [
       "'J (75.52%)'"
      ]
     },
     "metadata": {},
     "output_type": "display_data"
    },
    {
     "name": "stdout",
     "output_type": "stream",
     "text": [
      "<class 'mediapipe.python.solution_base.SolutionOutputs'>\n",
      "J\n",
      "J (89.53%)\n"
     ]
    },
    {
     "data": {
      "text/plain": [
       "'J (89.53%)'"
      ]
     },
     "metadata": {},
     "output_type": "display_data"
    },
    {
     "name": "stdout",
     "output_type": "stream",
     "text": [
      "<class 'mediapipe.python.solution_base.SolutionOutputs'>\n",
      "J\n",
      "J (94.84%)\n"
     ]
    },
    {
     "data": {
      "text/plain": [
       "'J (94.84%)'"
      ]
     },
     "metadata": {},
     "output_type": "display_data"
    },
    {
     "name": "stdout",
     "output_type": "stream",
     "text": [
      "<class 'mediapipe.python.solution_base.SolutionOutputs'>\n",
      "J\n",
      "J (97.09%)\n"
     ]
    },
    {
     "data": {
      "text/plain": [
       "'J (97.09%)'"
      ]
     },
     "metadata": {},
     "output_type": "display_data"
    },
    {
     "name": "stdout",
     "output_type": "stream",
     "text": [
      "<class 'mediapipe.python.solution_base.SolutionOutputs'>\n",
      "J\n",
      "J (98.17%)\n"
     ]
    },
    {
     "data": {
      "text/plain": [
       "'J (98.17%)'"
      ]
     },
     "metadata": {},
     "output_type": "display_data"
    },
    {
     "name": "stdout",
     "output_type": "stream",
     "text": [
      "<class 'mediapipe.python.solution_base.SolutionOutputs'>\n",
      "J\n",
      "J (98.70%)\n"
     ]
    },
    {
     "data": {
      "text/plain": [
       "'J (98.70%)'"
      ]
     },
     "metadata": {},
     "output_type": "display_data"
    },
    {
     "name": "stdout",
     "output_type": "stream",
     "text": [
      "<class 'mediapipe.python.solution_base.SolutionOutputs'>\n",
      "J\n",
      "J (99.02%)\n"
     ]
    },
    {
     "data": {
      "text/plain": [
       "'J (99.02%)'"
      ]
     },
     "metadata": {},
     "output_type": "display_data"
    },
    {
     "name": "stdout",
     "output_type": "stream",
     "text": [
      "<class 'mediapipe.python.solution_base.SolutionOutputs'>\n",
      "J\n",
      "J (99.20%)\n"
     ]
    },
    {
     "data": {
      "text/plain": [
       "'J (99.20%)'"
      ]
     },
     "metadata": {},
     "output_type": "display_data"
    },
    {
     "name": "stdout",
     "output_type": "stream",
     "text": [
      "<class 'mediapipe.python.solution_base.SolutionOutputs'>\n",
      "J\n",
      "J (99.31%)\n"
     ]
    },
    {
     "data": {
      "text/plain": [
       "'J (99.31%)'"
      ]
     },
     "metadata": {},
     "output_type": "display_data"
    },
    {
     "name": "stdout",
     "output_type": "stream",
     "text": [
      "<class 'mediapipe.python.solution_base.SolutionOutputs'>\n",
      "J\n",
      "J (99.38%)\n"
     ]
    },
    {
     "data": {
      "text/plain": [
       "'J (99.38%)'"
      ]
     },
     "metadata": {},
     "output_type": "display_data"
    },
    {
     "name": "stdout",
     "output_type": "stream",
     "text": [
      "<class 'mediapipe.python.solution_base.SolutionOutputs'>\n",
      "J\n",
      "J (99.38%)\n"
     ]
    },
    {
     "data": {
      "text/plain": [
       "'J (99.38%)'"
      ]
     },
     "metadata": {},
     "output_type": "display_data"
    },
    {
     "name": "stdout",
     "output_type": "stream",
     "text": [
      "<class 'mediapipe.python.solution_base.SolutionOutputs'>\n",
      "J\n",
      "J (99.23%)\n"
     ]
    },
    {
     "data": {
      "text/plain": [
       "'J (99.23%)'"
      ]
     },
     "metadata": {},
     "output_type": "display_data"
    },
    {
     "name": "stdout",
     "output_type": "stream",
     "text": [
      "<class 'mediapipe.python.solution_base.SolutionOutputs'>\n",
      "J\n",
      "J (98.93%)\n"
     ]
    },
    {
     "data": {
      "text/plain": [
       "'J (98.93%)'"
      ]
     },
     "metadata": {},
     "output_type": "display_data"
    },
    {
     "name": "stdout",
     "output_type": "stream",
     "text": [
      "<class 'mediapipe.python.solution_base.SolutionOutputs'>\n",
      "J\n",
      "J (98.35%)\n"
     ]
    },
    {
     "data": {
      "text/plain": [
       "'J (98.35%)'"
      ]
     },
     "metadata": {},
     "output_type": "display_data"
    },
    {
     "name": "stdout",
     "output_type": "stream",
     "text": [
      "<class 'mediapipe.python.solution_base.SolutionOutputs'>\n",
      "J\n",
      "J (97.15%)\n"
     ]
    },
    {
     "data": {
      "text/plain": [
       "'J (97.15%)'"
      ]
     },
     "metadata": {},
     "output_type": "display_data"
    },
    {
     "name": "stdout",
     "output_type": "stream",
     "text": [
      "<class 'mediapipe.python.solution_base.SolutionOutputs'>\n",
      "J\n",
      "J (94.44%)\n"
     ]
    },
    {
     "data": {
      "text/plain": [
       "'J (94.44%)'"
      ]
     },
     "metadata": {},
     "output_type": "display_data"
    },
    {
     "name": "stdout",
     "output_type": "stream",
     "text": [
      "<class 'mediapipe.python.solution_base.SolutionOutputs'>\n",
      "J\n",
      "J (88.67%)\n"
     ]
    },
    {
     "data": {
      "text/plain": [
       "'J (88.67%)'"
      ]
     },
     "metadata": {},
     "output_type": "display_data"
    },
    {
     "name": "stdout",
     "output_type": "stream",
     "text": [
      "<class 'mediapipe.python.solution_base.SolutionOutputs'>\n",
      "J\n",
      "J (77.94%)\n"
     ]
    },
    {
     "data": {
      "text/plain": [
       "'J (77.94%)'"
      ]
     },
     "metadata": {},
     "output_type": "display_data"
    },
    {
     "name": "stdout",
     "output_type": "stream",
     "text": [
      "<class 'mediapipe.python.solution_base.SolutionOutputs'>\n",
      "J\n",
      "J (63.21%)\n"
     ]
    },
    {
     "data": {
      "text/plain": [
       "'J (63.21%)'"
      ]
     },
     "metadata": {},
     "output_type": "display_data"
    },
    {
     "name": "stdout",
     "output_type": "stream",
     "text": [
      "<class 'mediapipe.python.solution_base.SolutionOutputs'>\n",
      "siapa\n",
      "siapa (53.74%)\n",
      "<class 'mediapipe.python.solution_base.SolutionOutputs'>\n",
      "siapa\n",
      "siapa (66.79%)\n",
      "<class 'mediapipe.python.solution_base.SolutionOutputs'>\n",
      "siapa\n",
      "siapa (92.74%)\n",
      "<class 'mediapipe.python.solution_base.SolutionOutputs'>\n",
      "siapa\n",
      "siapa (97.82%)\n",
      "<class 'mediapipe.python.solution_base.SolutionOutputs'>\n",
      "siapa\n",
      "siapa (98.94%)\n",
      "<class 'mediapipe.python.solution_base.SolutionOutputs'>\n",
      "siapa\n",
      "siapa (98.77%)\n",
      "<class 'mediapipe.python.solution_base.SolutionOutputs'>\n",
      "siapa\n",
      "siapa (92.10%)\n",
      "<class 'mediapipe.python.solution_base.SolutionOutputs'>\n",
      "saya\n",
      "saya (78.32%)\n",
      "<class 'mediapipe.python.solution_base.SolutionOutputs'>\n",
      "saya\n",
      "saya (99.74%)\n",
      "<class 'mediapipe.python.solution_base.SolutionOutputs'>\n",
      "saya\n",
      "saya (99.74%)\n"
     ]
    },
    {
     "data": {
      "text/plain": [
       "'saya (99.74%)'"
      ]
     },
     "metadata": {},
     "output_type": "display_data"
    },
    {
     "name": "stdout",
     "output_type": "stream",
     "text": [
      "<class 'mediapipe.python.solution_base.SolutionOutputs'>\n",
      "saya\n",
      "saya (99.74%)\n"
     ]
    },
    {
     "data": {
      "text/plain": [
       "'saya (99.74%)'"
      ]
     },
     "metadata": {},
     "output_type": "display_data"
    },
    {
     "name": "stdout",
     "output_type": "stream",
     "text": [
      "<class 'mediapipe.python.solution_base.SolutionOutputs'>\n",
      "saya\n",
      "saya (99.74%)\n"
     ]
    },
    {
     "data": {
      "text/plain": [
       "'saya (99.74%)'"
      ]
     },
     "metadata": {},
     "output_type": "display_data"
    },
    {
     "name": "stdout",
     "output_type": "stream",
     "text": [
      "<class 'mediapipe.python.solution_base.SolutionOutputs'>\n",
      "saya\n",
      "saya (99.74%)\n"
     ]
    },
    {
     "data": {
      "text/plain": [
       "'saya (99.74%)'"
      ]
     },
     "metadata": {},
     "output_type": "display_data"
    },
    {
     "name": "stdout",
     "output_type": "stream",
     "text": [
      "<class 'mediapipe.python.solution_base.SolutionOutputs'>\n",
      "saya\n",
      "saya (99.74%)\n"
     ]
    },
    {
     "data": {
      "text/plain": [
       "'saya (99.74%)'"
      ]
     },
     "metadata": {},
     "output_type": "display_data"
    },
    {
     "name": "stdout",
     "output_type": "stream",
     "text": [
      "<class 'mediapipe.python.solution_base.SolutionOutputs'>\n",
      "saya\n",
      "saya (99.74%)\n"
     ]
    },
    {
     "data": {
      "text/plain": [
       "'saya (99.74%)'"
      ]
     },
     "metadata": {},
     "output_type": "display_data"
    },
    {
     "name": "stdout",
     "output_type": "stream",
     "text": [
      "<class 'mediapipe.python.solution_base.SolutionOutputs'>\n",
      "saya\n",
      "saya (99.74%)\n"
     ]
    },
    {
     "data": {
      "text/plain": [
       "'saya (99.74%)'"
      ]
     },
     "metadata": {},
     "output_type": "display_data"
    },
    {
     "name": "stdout",
     "output_type": "stream",
     "text": [
      "<class 'mediapipe.python.solution_base.SolutionOutputs'>\n",
      "saya\n",
      "saya (99.74%)\n"
     ]
    },
    {
     "data": {
      "text/plain": [
       "'saya (99.74%)'"
      ]
     },
     "metadata": {},
     "output_type": "display_data"
    },
    {
     "name": "stdout",
     "output_type": "stream",
     "text": [
      "<class 'mediapipe.python.solution_base.SolutionOutputs'>\n",
      "saya\n",
      "saya (99.72%)\n"
     ]
    },
    {
     "data": {
      "text/plain": [
       "'saya (99.72%)'"
      ]
     },
     "metadata": {},
     "output_type": "display_data"
    },
    {
     "name": "stdout",
     "output_type": "stream",
     "text": [
      "<class 'mediapipe.python.solution_base.SolutionOutputs'>\n",
      "saya\n",
      "saya (99.70%)\n"
     ]
    },
    {
     "data": {
      "text/plain": [
       "'saya (99.70%)'"
      ]
     },
     "metadata": {},
     "output_type": "display_data"
    },
    {
     "name": "stdout",
     "output_type": "stream",
     "text": [
      "<class 'mediapipe.python.solution_base.SolutionOutputs'>\n",
      "saya\n",
      "saya (99.66%)\n"
     ]
    },
    {
     "data": {
      "text/plain": [
       "'saya (99.66%)'"
      ]
     },
     "metadata": {},
     "output_type": "display_data"
    },
    {
     "name": "stdout",
     "output_type": "stream",
     "text": [
      "<class 'mediapipe.python.solution_base.SolutionOutputs'>\n",
      "saya\n",
      "saya (99.61%)\n"
     ]
    },
    {
     "data": {
      "text/plain": [
       "'saya (99.61%)'"
      ]
     },
     "metadata": {},
     "output_type": "display_data"
    },
    {
     "name": "stdout",
     "output_type": "stream",
     "text": [
      "<class 'mediapipe.python.solution_base.SolutionOutputs'>\n",
      "saya\n",
      "saya (99.55%)\n"
     ]
    },
    {
     "data": {
      "text/plain": [
       "'saya (99.55%)'"
      ]
     },
     "metadata": {},
     "output_type": "display_data"
    },
    {
     "name": "stdout",
     "output_type": "stream",
     "text": [
      "<class 'mediapipe.python.solution_base.SolutionOutputs'>\n",
      "saya\n",
      "saya (99.48%)\n"
     ]
    },
    {
     "data": {
      "text/plain": [
       "'saya (99.48%)'"
      ]
     },
     "metadata": {},
     "output_type": "display_data"
    },
    {
     "name": "stdout",
     "output_type": "stream",
     "text": [
      "<class 'mediapipe.python.solution_base.SolutionOutputs'>\n",
      "saya\n",
      "saya (99.41%)\n"
     ]
    },
    {
     "data": {
      "text/plain": [
       "'saya (99.41%)'"
      ]
     },
     "metadata": {},
     "output_type": "display_data"
    },
    {
     "name": "stdout",
     "output_type": "stream",
     "text": [
      "<class 'mediapipe.python.solution_base.SolutionOutputs'>\n",
      "saya\n",
      "saya (99.32%)\n"
     ]
    },
    {
     "data": {
      "text/plain": [
       "'saya (99.32%)'"
      ]
     },
     "metadata": {},
     "output_type": "display_data"
    },
    {
     "name": "stdout",
     "output_type": "stream",
     "text": [
      "<class 'mediapipe.python.solution_base.SolutionOutputs'>\n",
      "saya\n",
      "saya (99.23%)\n"
     ]
    },
    {
     "data": {
      "text/plain": [
       "'saya (99.23%)'"
      ]
     },
     "metadata": {},
     "output_type": "display_data"
    },
    {
     "name": "stdout",
     "output_type": "stream",
     "text": [
      "<class 'mediapipe.python.solution_base.SolutionOutputs'>\n",
      "saya\n",
      "saya (99.13%)\n"
     ]
    },
    {
     "data": {
      "text/plain": [
       "'saya (99.13%)'"
      ]
     },
     "metadata": {},
     "output_type": "display_data"
    },
    {
     "name": "stdout",
     "output_type": "stream",
     "text": [
      "<class 'mediapipe.python.solution_base.SolutionOutputs'>\n",
      "saya\n",
      "saya (99.02%)\n"
     ]
    },
    {
     "data": {
      "text/plain": [
       "'saya (99.02%)'"
      ]
     },
     "metadata": {},
     "output_type": "display_data"
    },
    {
     "name": "stdout",
     "output_type": "stream",
     "text": [
      "<class 'mediapipe.python.solution_base.SolutionOutputs'>\n",
      "saya\n",
      "saya (98.89%)\n"
     ]
    },
    {
     "data": {
      "text/plain": [
       "'saya (98.89%)'"
      ]
     },
     "metadata": {},
     "output_type": "display_data"
    },
    {
     "name": "stdout",
     "output_type": "stream",
     "text": [
      "<class 'mediapipe.python.solution_base.SolutionOutputs'>\n",
      "saya\n",
      "saya (98.72%)\n"
     ]
    },
    {
     "data": {
      "text/plain": [
       "'saya (98.72%)'"
      ]
     },
     "metadata": {},
     "output_type": "display_data"
    },
    {
     "name": "stdout",
     "output_type": "stream",
     "text": [
      "<class 'mediapipe.python.solution_base.SolutionOutputs'>\n",
      "saya\n",
      "saya (98.51%)\n"
     ]
    },
    {
     "data": {
      "text/plain": [
       "'saya (98.51%)'"
      ]
     },
     "metadata": {},
     "output_type": "display_data"
    },
    {
     "name": "stdout",
     "output_type": "stream",
     "text": [
      "<class 'mediapipe.python.solution_base.SolutionOutputs'>\n",
      "saya\n",
      "saya (98.24%)\n"
     ]
    },
    {
     "data": {
      "text/plain": [
       "'saya (98.24%)'"
      ]
     },
     "metadata": {},
     "output_type": "display_data"
    },
    {
     "name": "stdout",
     "output_type": "stream",
     "text": [
      "<class 'mediapipe.python.solution_base.SolutionOutputs'>\n",
      "saya\n",
      "saya (97.92%)\n"
     ]
    },
    {
     "data": {
      "text/plain": [
       "'saya (97.92%)'"
      ]
     },
     "metadata": {},
     "output_type": "display_data"
    },
    {
     "name": "stdout",
     "output_type": "stream",
     "text": [
      "<class 'mediapipe.python.solution_base.SolutionOutputs'>\n",
      "saya\n",
      "saya (97.51%)\n"
     ]
    },
    {
     "data": {
      "text/plain": [
       "'saya (97.51%)'"
      ]
     },
     "metadata": {},
     "output_type": "display_data"
    },
    {
     "name": "stdout",
     "output_type": "stream",
     "text": [
      "<class 'mediapipe.python.solution_base.SolutionOutputs'>\n",
      "saya\n",
      "saya (96.89%)\n"
     ]
    },
    {
     "data": {
      "text/plain": [
       "'saya (96.89%)'"
      ]
     },
     "metadata": {},
     "output_type": "display_data"
    },
    {
     "name": "stdout",
     "output_type": "stream",
     "text": [
      "<class 'mediapipe.python.solution_base.SolutionOutputs'>\n",
      "saya\n",
      "saya (95.96%)\n"
     ]
    },
    {
     "data": {
      "text/plain": [
       "'saya (95.96%)'"
      ]
     },
     "metadata": {},
     "output_type": "display_data"
    },
    {
     "name": "stdout",
     "output_type": "stream",
     "text": [
      "<class 'mediapipe.python.solution_base.SolutionOutputs'>\n",
      "saya\n",
      "saya (94.60%)\n"
     ]
    },
    {
     "data": {
      "text/plain": [
       "'saya (94.60%)'"
      ]
     },
     "metadata": {},
     "output_type": "display_data"
    },
    {
     "name": "stdout",
     "output_type": "stream",
     "text": [
      "<class 'mediapipe.python.solution_base.SolutionOutputs'>\n",
      "saya\n",
      "saya (92.68%)\n"
     ]
    },
    {
     "data": {
      "text/plain": [
       "'saya (92.68%)'"
      ]
     },
     "metadata": {},
     "output_type": "display_data"
    },
    {
     "name": "stdout",
     "output_type": "stream",
     "text": [
      "<class 'mediapipe.python.solution_base.SolutionOutputs'>\n",
      "saya\n",
      "saya (90.14%)\n"
     ]
    },
    {
     "data": {
      "text/plain": [
       "'saya (90.14%)'"
      ]
     },
     "metadata": {},
     "output_type": "display_data"
    },
    {
     "name": "stdout",
     "output_type": "stream",
     "text": [
      "<class 'mediapipe.python.solution_base.SolutionOutputs'>\n",
      "saya\n",
      "saya (87.04%)\n"
     ]
    },
    {
     "data": {
      "text/plain": [
       "'saya (87.04%)'"
      ]
     },
     "metadata": {},
     "output_type": "display_data"
    },
    {
     "name": "stdout",
     "output_type": "stream",
     "text": [
      "<class 'mediapipe.python.solution_base.SolutionOutputs'>\n",
      "saya\n",
      "saya (83.65%)\n"
     ]
    },
    {
     "data": {
      "text/plain": [
       "'saya (83.65%)'"
      ]
     },
     "metadata": {},
     "output_type": "display_data"
    },
    {
     "name": "stdout",
     "output_type": "stream",
     "text": [
      "<class 'mediapipe.python.solution_base.SolutionOutputs'>\n",
      "saya\n",
      "saya (80.60%)\n"
     ]
    },
    {
     "data": {
      "text/plain": [
       "'saya (80.60%)'"
      ]
     },
     "metadata": {},
     "output_type": "display_data"
    },
    {
     "name": "stdout",
     "output_type": "stream",
     "text": [
      "<class 'mediapipe.python.solution_base.SolutionOutputs'>\n",
      "saya\n",
      "saya (78.58%)\n"
     ]
    },
    {
     "data": {
      "text/plain": [
       "'saya (78.58%)'"
      ]
     },
     "metadata": {},
     "output_type": "display_data"
    },
    {
     "name": "stdout",
     "output_type": "stream",
     "text": [
      "<class 'mediapipe.python.solution_base.SolutionOutputs'>\n",
      "saya\n",
      "saya (77.82%)\n"
     ]
    },
    {
     "data": {
      "text/plain": [
       "'saya (77.82%)'"
      ]
     },
     "metadata": {},
     "output_type": "display_data"
    },
    {
     "name": "stdout",
     "output_type": "stream",
     "text": [
      "<class 'mediapipe.python.solution_base.SolutionOutputs'>\n",
      "saya\n",
      "saya (78.51%)\n"
     ]
    },
    {
     "data": {
      "text/plain": [
       "'saya (78.51%)'"
      ]
     },
     "metadata": {},
     "output_type": "display_data"
    },
    {
     "name": "stdout",
     "output_type": "stream",
     "text": [
      "<class 'mediapipe.python.solution_base.SolutionOutputs'>\n",
      "saya\n",
      "saya (79.75%)\n"
     ]
    },
    {
     "data": {
      "text/plain": [
       "'saya (79.75%)'"
      ]
     },
     "metadata": {},
     "output_type": "display_data"
    },
    {
     "name": "stdout",
     "output_type": "stream",
     "text": [
      "<class 'mediapipe.python.solution_base.SolutionOutputs'>\n",
      "saya\n",
      "saya (81.67%)\n"
     ]
    },
    {
     "data": {
      "text/plain": [
       "'saya (81.67%)'"
      ]
     },
     "metadata": {},
     "output_type": "display_data"
    },
    {
     "name": "stdout",
     "output_type": "stream",
     "text": [
      "<class 'mediapipe.python.solution_base.SolutionOutputs'>\n",
      "saya\n",
      "saya (99.74%)\n"
     ]
    },
    {
     "data": {
      "text/plain": [
       "'saya (99.74%)'"
      ]
     },
     "metadata": {},
     "output_type": "display_data"
    },
    {
     "name": "stdout",
     "output_type": "stream",
     "text": [
      "<class 'mediapipe.python.solution_base.SolutionOutputs'>\n",
      "saya\n",
      "saya (99.74%)\n"
     ]
    },
    {
     "data": {
      "text/plain": [
       "'saya (99.74%)'"
      ]
     },
     "metadata": {},
     "output_type": "display_data"
    },
    {
     "name": "stdout",
     "output_type": "stream",
     "text": [
      "<class 'mediapipe.python.solution_base.SolutionOutputs'>\n",
      "saya\n",
      "saya (99.74%)\n"
     ]
    },
    {
     "data": {
      "text/plain": [
       "'saya (99.74%)'"
      ]
     },
     "metadata": {},
     "output_type": "display_data"
    },
    {
     "name": "stdout",
     "output_type": "stream",
     "text": [
      "<class 'mediapipe.python.solution_base.SolutionOutputs'>\n",
      "saya\n",
      "saya (99.74%)\n"
     ]
    },
    {
     "data": {
      "text/plain": [
       "'saya (99.74%)'"
      ]
     },
     "metadata": {},
     "output_type": "display_data"
    },
    {
     "name": "stdout",
     "output_type": "stream",
     "text": [
      "<class 'mediapipe.python.solution_base.SolutionOutputs'>\n",
      "saya\n",
      "saya (99.74%)\n"
     ]
    },
    {
     "data": {
      "text/plain": [
       "'saya (99.74%)'"
      ]
     },
     "metadata": {},
     "output_type": "display_data"
    },
    {
     "name": "stdout",
     "output_type": "stream",
     "text": [
      "<class 'mediapipe.python.solution_base.SolutionOutputs'>\n",
      "saya\n",
      "saya (99.74%)\n"
     ]
    },
    {
     "data": {
      "text/plain": [
       "'saya (99.74%)'"
      ]
     },
     "metadata": {},
     "output_type": "display_data"
    },
    {
     "name": "stdout",
     "output_type": "stream",
     "text": [
      "<class 'mediapipe.python.solution_base.SolutionOutputs'>\n",
      "saya\n",
      "saya (99.74%)\n"
     ]
    },
    {
     "data": {
      "text/plain": [
       "'saya (99.74%)'"
      ]
     },
     "metadata": {},
     "output_type": "display_data"
    },
    {
     "name": "stdout",
     "output_type": "stream",
     "text": [
      "<class 'mediapipe.python.solution_base.SolutionOutputs'>\n",
      "saya\n",
      "saya (99.74%)\n"
     ]
    },
    {
     "data": {
      "text/plain": [
       "'saya (99.74%)'"
      ]
     },
     "metadata": {},
     "output_type": "display_data"
    },
    {
     "name": "stdout",
     "output_type": "stream",
     "text": [
      "<class 'mediapipe.python.solution_base.SolutionOutputs'>\n",
      "saya\n",
      "saya (99.74%)\n"
     ]
    },
    {
     "data": {
      "text/plain": [
       "'saya (99.74%)'"
      ]
     },
     "metadata": {},
     "output_type": "display_data"
    },
    {
     "name": "stdout",
     "output_type": "stream",
     "text": [
      "<class 'mediapipe.python.solution_base.SolutionOutputs'>\n",
      "saya\n",
      "saya (99.74%)\n"
     ]
    },
    {
     "data": {
      "text/plain": [
       "'saya (99.74%)'"
      ]
     },
     "metadata": {},
     "output_type": "display_data"
    },
    {
     "name": "stdout",
     "output_type": "stream",
     "text": [
      "<class 'mediapipe.python.solution_base.SolutionOutputs'>\n",
      "saya\n",
      "saya (99.74%)\n"
     ]
    },
    {
     "data": {
      "text/plain": [
       "'saya (99.74%)'"
      ]
     },
     "metadata": {},
     "output_type": "display_data"
    },
    {
     "name": "stdout",
     "output_type": "stream",
     "text": [
      "<class 'mediapipe.python.solution_base.SolutionOutputs'>\n",
      "saya\n",
      "saya (99.74%)\n"
     ]
    },
    {
     "data": {
      "text/plain": [
       "'saya (99.74%)'"
      ]
     },
     "metadata": {},
     "output_type": "display_data"
    },
    {
     "name": "stdout",
     "output_type": "stream",
     "text": [
      "<class 'mediapipe.python.solution_base.SolutionOutputs'>\n",
      "saya\n",
      "saya (99.74%)\n"
     ]
    },
    {
     "data": {
      "text/plain": [
       "'saya (99.74%)'"
      ]
     },
     "metadata": {},
     "output_type": "display_data"
    },
    {
     "name": "stdout",
     "output_type": "stream",
     "text": [
      "<class 'mediapipe.python.solution_base.SolutionOutputs'>\n",
      "saya\n",
      "saya (99.74%)\n"
     ]
    },
    {
     "data": {
      "text/plain": [
       "'saya (99.74%)'"
      ]
     },
     "metadata": {},
     "output_type": "display_data"
    },
    {
     "name": "stdout",
     "output_type": "stream",
     "text": [
      "<class 'mediapipe.python.solution_base.SolutionOutputs'>\n",
      "saya\n",
      "saya (99.74%)\n"
     ]
    },
    {
     "data": {
      "text/plain": [
       "'saya (99.74%)'"
      ]
     },
     "metadata": {},
     "output_type": "display_data"
    },
    {
     "name": "stdout",
     "output_type": "stream",
     "text": [
      "<class 'mediapipe.python.solution_base.SolutionOutputs'>\n",
      "saya\n",
      "saya (99.74%)\n"
     ]
    },
    {
     "data": {
      "text/plain": [
       "'saya (99.74%)'"
      ]
     },
     "metadata": {},
     "output_type": "display_data"
    },
    {
     "name": "stdout",
     "output_type": "stream",
     "text": [
      "<class 'mediapipe.python.solution_base.SolutionOutputs'>\n",
      "saya\n",
      "saya (99.74%)\n"
     ]
    },
    {
     "data": {
      "text/plain": [
       "'saya (99.74%)'"
      ]
     },
     "metadata": {},
     "output_type": "display_data"
    },
    {
     "name": "stdout",
     "output_type": "stream",
     "text": [
      "<class 'mediapipe.python.solution_base.SolutionOutputs'>\n",
      "saya\n",
      "saya (99.74%)\n"
     ]
    },
    {
     "data": {
      "text/plain": [
       "'saya (99.74%)'"
      ]
     },
     "metadata": {},
     "output_type": "display_data"
    },
    {
     "name": "stdout",
     "output_type": "stream",
     "text": [
      "<class 'mediapipe.python.solution_base.SolutionOutputs'>\n",
      "saya\n",
      "saya (99.74%)\n"
     ]
    },
    {
     "data": {
      "text/plain": [
       "'saya (99.74%)'"
      ]
     },
     "metadata": {},
     "output_type": "display_data"
    },
    {
     "name": "stdout",
     "output_type": "stream",
     "text": [
      "<class 'mediapipe.python.solution_base.SolutionOutputs'>\n",
      "saya\n",
      "saya (99.74%)\n"
     ]
    },
    {
     "data": {
      "text/plain": [
       "'saya (99.74%)'"
      ]
     },
     "metadata": {},
     "output_type": "display_data"
    },
    {
     "name": "stdout",
     "output_type": "stream",
     "text": [
      "<class 'mediapipe.python.solution_base.SolutionOutputs'>\n",
      "saya\n",
      "saya (99.74%)\n"
     ]
    },
    {
     "data": {
      "text/plain": [
       "'saya (99.74%)'"
      ]
     },
     "metadata": {},
     "output_type": "display_data"
    },
    {
     "name": "stdout",
     "output_type": "stream",
     "text": [
      "<class 'mediapipe.python.solution_base.SolutionOutputs'>\n",
      "saya\n",
      "saya (99.74%)\n"
     ]
    },
    {
     "data": {
      "text/plain": [
       "'saya (99.74%)'"
      ]
     },
     "metadata": {},
     "output_type": "display_data"
    },
    {
     "name": "stdout",
     "output_type": "stream",
     "text": [
      "<class 'mediapipe.python.solution_base.SolutionOutputs'>\n",
      "saya\n",
      "saya (99.74%)\n"
     ]
    },
    {
     "data": {
      "text/plain": [
       "'saya (99.74%)'"
      ]
     },
     "metadata": {},
     "output_type": "display_data"
    },
    {
     "name": "stdout",
     "output_type": "stream",
     "text": [
      "<class 'mediapipe.python.solution_base.SolutionOutputs'>\n",
      "saya\n",
      "saya (99.74%)\n"
     ]
    },
    {
     "data": {
      "text/plain": [
       "'saya (99.74%)'"
      ]
     },
     "metadata": {},
     "output_type": "display_data"
    },
    {
     "name": "stdout",
     "output_type": "stream",
     "text": [
      "<class 'mediapipe.python.solution_base.SolutionOutputs'>\n",
      "saya\n",
      "saya (99.74%)\n"
     ]
    },
    {
     "data": {
      "text/plain": [
       "'saya (99.74%)'"
      ]
     },
     "metadata": {},
     "output_type": "display_data"
    },
    {
     "name": "stdout",
     "output_type": "stream",
     "text": [
      "<class 'mediapipe.python.solution_base.SolutionOutputs'>\n",
      "saya\n",
      "saya (99.74%)\n"
     ]
    },
    {
     "data": {
      "text/plain": [
       "'saya (99.74%)'"
      ]
     },
     "metadata": {},
     "output_type": "display_data"
    },
    {
     "name": "stdout",
     "output_type": "stream",
     "text": [
      "<class 'mediapipe.python.solution_base.SolutionOutputs'>\n",
      "saya\n",
      "saya (99.74%)\n"
     ]
    },
    {
     "data": {
      "text/plain": [
       "'saya (99.74%)'"
      ]
     },
     "metadata": {},
     "output_type": "display_data"
    },
    {
     "name": "stdout",
     "output_type": "stream",
     "text": [
      "<class 'mediapipe.python.solution_base.SolutionOutputs'>\n",
      "saya\n",
      "saya (99.72%)\n"
     ]
    },
    {
     "data": {
      "text/plain": [
       "'saya (99.72%)'"
      ]
     },
     "metadata": {},
     "output_type": "display_data"
    },
    {
     "name": "stdout",
     "output_type": "stream",
     "text": [
      "<class 'mediapipe.python.solution_base.SolutionOutputs'>\n",
      "saya\n",
      "saya (99.67%)\n"
     ]
    },
    {
     "data": {
      "text/plain": [
       "'saya (99.67%)'"
      ]
     },
     "metadata": {},
     "output_type": "display_data"
    },
    {
     "name": "stdout",
     "output_type": "stream",
     "text": [
      "<class 'mediapipe.python.solution_base.SolutionOutputs'>\n",
      "saya\n",
      "saya (99.58%)\n"
     ]
    },
    {
     "data": {
      "text/plain": [
       "'saya (99.58%)'"
      ]
     },
     "metadata": {},
     "output_type": "display_data"
    },
    {
     "name": "stdout",
     "output_type": "stream",
     "text": [
      "<class 'mediapipe.python.solution_base.SolutionOutputs'>\n",
      "saya\n",
      "saya (99.43%)\n"
     ]
    },
    {
     "data": {
      "text/plain": [
       "'saya (99.43%)'"
      ]
     },
     "metadata": {},
     "output_type": "display_data"
    },
    {
     "name": "stdout",
     "output_type": "stream",
     "text": [
      "<class 'mediapipe.python.solution_base.SolutionOutputs'>\n",
      "saya\n",
      "saya (99.16%)\n"
     ]
    },
    {
     "data": {
      "text/plain": [
       "'saya (99.16%)'"
      ]
     },
     "metadata": {},
     "output_type": "display_data"
    },
    {
     "name": "stdout",
     "output_type": "stream",
     "text": [
      "<class 'mediapipe.python.solution_base.SolutionOutputs'>\n",
      "saya\n",
      "saya (98.66%)\n"
     ]
    },
    {
     "data": {
      "text/plain": [
       "'saya (98.66%)'"
      ]
     },
     "metadata": {},
     "output_type": "display_data"
    },
    {
     "name": "stdout",
     "output_type": "stream",
     "text": [
      "<class 'mediapipe.python.solution_base.SolutionOutputs'>\n",
      "saya\n",
      "saya (97.54%)\n"
     ]
    },
    {
     "data": {
      "text/plain": [
       "'saya (97.54%)'"
      ]
     },
     "metadata": {},
     "output_type": "display_data"
    },
    {
     "name": "stdout",
     "output_type": "stream",
     "text": [
      "<class 'mediapipe.python.solution_base.SolutionOutputs'>\n",
      "saya\n",
      "saya (93.98%)\n"
     ]
    },
    {
     "data": {
      "text/plain": [
       "'saya (93.98%)'"
      ]
     },
     "metadata": {},
     "output_type": "display_data"
    },
    {
     "name": "stdout",
     "output_type": "stream",
     "text": [
      "<class 'mediapipe.python.solution_base.SolutionOutputs'>\n",
      "saya\n",
      "saya (81.29%)\n"
     ]
    },
    {
     "data": {
      "text/plain": [
       "'saya (81.29%)'"
      ]
     },
     "metadata": {},
     "output_type": "display_data"
    },
    {
     "name": "stdout",
     "output_type": "stream",
     "text": [
      "<class 'mediapipe.python.solution_base.SolutionOutputs'>\n",
      "saya\n",
      "saya (48.50%)\n",
      "<class 'mediapipe.python.solution_base.SolutionOutputs'>\n",
      "J\n",
      "J (66.27%)\n"
     ]
    },
    {
     "data": {
      "text/plain": [
       "'J (66.27%)'"
      ]
     },
     "metadata": {},
     "output_type": "display_data"
    },
    {
     "name": "stdout",
     "output_type": "stream",
     "text": [
      "<class 'mediapipe.python.solution_base.SolutionOutputs'>\n",
      "J\n",
      "J (73.81%)\n"
     ]
    },
    {
     "data": {
      "text/plain": [
       "'J (73.81%)'"
      ]
     },
     "metadata": {},
     "output_type": "display_data"
    },
    {
     "name": "stdout",
     "output_type": "stream",
     "text": [
      "<class 'mediapipe.python.solution_base.SolutionOutputs'>\n",
      "J\n",
      "J (60.15%)\n"
     ]
    },
    {
     "data": {
      "text/plain": [
       "'J (60.15%)'"
      ]
     },
     "metadata": {},
     "output_type": "display_data"
    },
    {
     "name": "stdout",
     "output_type": "stream",
     "text": [
      "<class 'mediapipe.python.solution_base.SolutionOutputs'>\n",
      "aku\n",
      "aku (55.45%)\n"
     ]
    },
    {
     "data": {
      "text/plain": [
       "'aku (55.45%)'"
      ]
     },
     "metadata": {},
     "output_type": "display_data"
    },
    {
     "name": "stdout",
     "output_type": "stream",
     "text": [
      "<class 'mediapipe.python.solution_base.SolutionOutputs'>\n",
      "aku\n",
      "aku (66.35%)\n"
     ]
    },
    {
     "data": {
      "text/plain": [
       "'aku (66.35%)'"
      ]
     },
     "metadata": {},
     "output_type": "display_data"
    },
    {
     "name": "stdout",
     "output_type": "stream",
     "text": [
      "<class 'mediapipe.python.solution_base.SolutionOutputs'>\n",
      "aku\n",
      "aku (49.92%)\n",
      "<class 'mediapipe.python.solution_base.SolutionOutputs'>\n",
      "I\n",
      "I (43.63%)\n",
      "<class 'mediapipe.python.solution_base.SolutionOutputs'>\n",
      "I\n",
      "I (66.39%)\n",
      "<class 'mediapipe.python.solution_base.SolutionOutputs'>\n",
      "I\n",
      "I (80.87%)\n",
      "<class 'mediapipe.python.solution_base.SolutionOutputs'>\n",
      "I\n",
      "I (90.16%)\n",
      "<class 'mediapipe.python.solution_base.SolutionOutputs'>\n",
      "I\n",
      "I (95.50%)\n",
      "<class 'mediapipe.python.solution_base.SolutionOutputs'>\n",
      "I\n",
      "I (98.07%)\n",
      "<class 'mediapipe.python.solution_base.SolutionOutputs'>\n",
      "I\n",
      "I (99.11%)\n",
      "<class 'mediapipe.python.solution_base.SolutionOutputs'>\n",
      "I\n",
      "I (99.48%)\n",
      "<class 'mediapipe.python.solution_base.SolutionOutputs'>\n",
      "I\n",
      "I (99.57%)\n",
      "<class 'mediapipe.python.solution_base.SolutionOutputs'>\n",
      "I\n",
      "I (99.50%)\n"
     ]
    },
    {
     "data": {
      "text/plain": [
       "'I (99.50%)'"
      ]
     },
     "metadata": {},
     "output_type": "display_data"
    },
    {
     "name": "stdout",
     "output_type": "stream",
     "text": [
      "<class 'mediapipe.python.solution_base.SolutionOutputs'>\n",
      "I\n",
      "I (99.25%)\n"
     ]
    },
    {
     "data": {
      "text/plain": [
       "'I (99.25%)'"
      ]
     },
     "metadata": {},
     "output_type": "display_data"
    },
    {
     "name": "stdout",
     "output_type": "stream",
     "text": [
      "<class 'mediapipe.python.solution_base.SolutionOutputs'>\n",
      "I\n",
      "I (98.70%)\n"
     ]
    },
    {
     "data": {
      "text/plain": [
       "'I (98.70%)'"
      ]
     },
     "metadata": {},
     "output_type": "display_data"
    },
    {
     "name": "stdout",
     "output_type": "stream",
     "text": [
      "<class 'mediapipe.python.solution_base.SolutionOutputs'>\n",
      "I\n",
      "I (97.49%)\n"
     ]
    },
    {
     "data": {
      "text/plain": [
       "'I (97.49%)'"
      ]
     },
     "metadata": {},
     "output_type": "display_data"
    },
    {
     "name": "stdout",
     "output_type": "stream",
     "text": [
      "<class 'mediapipe.python.solution_base.SolutionOutputs'>\n",
      "I\n",
      "I (95.38%)\n"
     ]
    },
    {
     "data": {
      "text/plain": [
       "'I (95.38%)'"
      ]
     },
     "metadata": {},
     "output_type": "display_data"
    },
    {
     "name": "stdout",
     "output_type": "stream",
     "text": [
      "<class 'mediapipe.python.solution_base.SolutionOutputs'>\n",
      "I\n",
      "I (92.61%)\n"
     ]
    },
    {
     "data": {
      "text/plain": [
       "'I (92.61%)'"
      ]
     },
     "metadata": {},
     "output_type": "display_data"
    },
    {
     "name": "stdout",
     "output_type": "stream",
     "text": [
      "<class 'mediapipe.python.solution_base.SolutionOutputs'>\n",
      "I\n",
      "I (91.51%)\n"
     ]
    },
    {
     "data": {
      "text/plain": [
       "'I (91.51%)'"
      ]
     },
     "metadata": {},
     "output_type": "display_data"
    },
    {
     "name": "stdout",
     "output_type": "stream",
     "text": [
      "<class 'mediapipe.python.solution_base.SolutionOutputs'>\n",
      "I\n",
      "I (89.82%)\n"
     ]
    },
    {
     "data": {
      "text/plain": [
       "'I (89.82%)'"
      ]
     },
     "metadata": {},
     "output_type": "display_data"
    },
    {
     "name": "stdout",
     "output_type": "stream",
     "text": [
      "<class 'mediapipe.python.solution_base.SolutionOutputs'>\n",
      "I\n",
      "I (88.73%)\n"
     ]
    },
    {
     "data": {
      "text/plain": [
       "'I (88.73%)'"
      ]
     },
     "metadata": {},
     "output_type": "display_data"
    },
    {
     "name": "stdout",
     "output_type": "stream",
     "text": [
      "<class 'mediapipe.python.solution_base.SolutionOutputs'>\n",
      "I\n",
      "I (88.02%)\n"
     ]
    },
    {
     "data": {
      "text/plain": [
       "'I (88.02%)'"
      ]
     },
     "metadata": {},
     "output_type": "display_data"
    },
    {
     "name": "stdout",
     "output_type": "stream",
     "text": [
      "<class 'mediapipe.python.solution_base.SolutionOutputs'>\n",
      "I\n",
      "I (88.18%)\n"
     ]
    },
    {
     "data": {
      "text/plain": [
       "'I (88.18%)'"
      ]
     },
     "metadata": {},
     "output_type": "display_data"
    },
    {
     "name": "stdout",
     "output_type": "stream",
     "text": [
      "<class 'mediapipe.python.solution_base.SolutionOutputs'>\n",
      "I\n",
      "I (86.82%)\n"
     ]
    },
    {
     "data": {
      "text/plain": [
       "'I (86.82%)'"
      ]
     },
     "metadata": {},
     "output_type": "display_data"
    },
    {
     "name": "stdout",
     "output_type": "stream",
     "text": [
      "<class 'mediapipe.python.solution_base.SolutionOutputs'>\n",
      "I\n",
      "I (86.26%)\n"
     ]
    },
    {
     "data": {
      "text/plain": [
       "'I (86.26%)'"
      ]
     },
     "metadata": {},
     "output_type": "display_data"
    },
    {
     "name": "stdout",
     "output_type": "stream",
     "text": [
      "<class 'mediapipe.python.solution_base.SolutionOutputs'>\n",
      "I\n",
      "I (82.96%)\n"
     ]
    },
    {
     "data": {
      "text/plain": [
       "'I (82.96%)'"
      ]
     },
     "metadata": {},
     "output_type": "display_data"
    },
    {
     "name": "stdout",
     "output_type": "stream",
     "text": [
      "<class 'mediapipe.python.solution_base.SolutionOutputs'>\n",
      "I\n",
      "I (79.39%)\n"
     ]
    },
    {
     "data": {
      "text/plain": [
       "'I (79.39%)'"
      ]
     },
     "metadata": {},
     "output_type": "display_data"
    },
    {
     "name": "stdout",
     "output_type": "stream",
     "text": [
      "<class 'mediapipe.python.solution_base.SolutionOutputs'>\n",
      "I\n",
      "I (76.34%)\n"
     ]
    },
    {
     "data": {
      "text/plain": [
       "'I (76.34%)'"
      ]
     },
     "metadata": {},
     "output_type": "display_data"
    },
    {
     "name": "stdout",
     "output_type": "stream",
     "text": [
      "<class 'mediapipe.python.solution_base.SolutionOutputs'>\n",
      "I\n",
      "I (69.65%)\n"
     ]
    },
    {
     "data": {
      "text/plain": [
       "'I (69.65%)'"
      ]
     },
     "metadata": {},
     "output_type": "display_data"
    },
    {
     "name": "stdout",
     "output_type": "stream",
     "text": [
      "<class 'mediapipe.python.solution_base.SolutionOutputs'>\n",
      "K\n",
      "K (59.07%)\n",
      "<class 'mediapipe.python.solution_base.SolutionOutputs'>\n",
      "K\n",
      "K (82.16%)\n",
      "<class 'mediapipe.python.solution_base.SolutionOutputs'>\n",
      "K\n",
      "K (85.31%)\n",
      "<class 'mediapipe.python.solution_base.SolutionOutputs'>\n",
      "K\n",
      "K (88.05%)\n",
      "<class 'mediapipe.python.solution_base.SolutionOutputs'>\n",
      "K\n",
      "K (91.09%)\n",
      "<class 'mediapipe.python.solution_base.SolutionOutputs'>\n",
      "K\n",
      "K (93.69%)\n",
      "<class 'mediapipe.python.solution_base.SolutionOutputs'>\n",
      "K\n",
      "K (95.83%)\n",
      "<class 'mediapipe.python.solution_base.SolutionOutputs'>\n",
      "K\n",
      "K (93.87%)\n",
      "<class 'mediapipe.python.solution_base.SolutionOutputs'>\n",
      "K\n",
      "K (92.29%)\n",
      "<class 'mediapipe.python.solution_base.SolutionOutputs'>\n",
      "K\n",
      "K (93.96%)\n"
     ]
    },
    {
     "data": {
      "text/plain": [
       "'K (93.96%)'"
      ]
     },
     "metadata": {},
     "output_type": "display_data"
    },
    {
     "name": "stdout",
     "output_type": "stream",
     "text": [
      "<class 'mediapipe.python.solution_base.SolutionOutputs'>\n",
      "K\n",
      "K (93.57%)\n"
     ]
    },
    {
     "data": {
      "text/plain": [
       "'K (93.57%)'"
      ]
     },
     "metadata": {},
     "output_type": "display_data"
    },
    {
     "name": "stdout",
     "output_type": "stream",
     "text": [
      "<class 'mediapipe.python.solution_base.SolutionOutputs'>\n",
      "K\n",
      "K (97.06%)\n"
     ]
    },
    {
     "data": {
      "text/plain": [
       "'K (97.06%)'"
      ]
     },
     "metadata": {},
     "output_type": "display_data"
    },
    {
     "name": "stdout",
     "output_type": "stream",
     "text": [
      "<class 'mediapipe.python.solution_base.SolutionOutputs'>\n",
      "K\n",
      "K (97.72%)\n"
     ]
    },
    {
     "data": {
      "text/plain": [
       "'K (97.72%)'"
      ]
     },
     "metadata": {},
     "output_type": "display_data"
    },
    {
     "name": "stdout",
     "output_type": "stream",
     "text": [
      "<class 'mediapipe.python.solution_base.SolutionOutputs'>\n",
      "K\n",
      "K (93.58%)\n"
     ]
    },
    {
     "data": {
      "text/plain": [
       "'K (93.58%)'"
      ]
     },
     "metadata": {},
     "output_type": "display_data"
    },
    {
     "name": "stdout",
     "output_type": "stream",
     "text": [
      "<class 'mediapipe.python.solution_base.SolutionOutputs'>\n",
      "K\n",
      "K (76.46%)\n"
     ]
    },
    {
     "data": {
      "text/plain": [
       "'K (76.46%)'"
      ]
     },
     "metadata": {},
     "output_type": "display_data"
    },
    {
     "name": "stdout",
     "output_type": "stream",
     "text": [
      "<class 'mediapipe.python.solution_base.SolutionOutputs'>\n",
      "halo\n",
      "halo (54.21%)\n"
     ]
    },
    {
     "data": {
      "text/plain": [
       "'halo (54.21%)'"
      ]
     },
     "metadata": {},
     "output_type": "display_data"
    },
    {
     "name": "stdout",
     "output_type": "stream",
     "text": [
      "<class 'mediapipe.python.solution_base.SolutionOutputs'>\n",
      "halo\n",
      "halo (60.21%)\n"
     ]
    },
    {
     "data": {
      "text/plain": [
       "'halo (60.21%)'"
      ]
     },
     "metadata": {},
     "output_type": "display_data"
    },
    {
     "name": "stdout",
     "output_type": "stream",
     "text": [
      "<class 'mediapipe.python.solution_base.SolutionOutputs'>\n",
      "halo\n",
      "halo (70.05%)\n"
     ]
    },
    {
     "data": {
      "text/plain": [
       "'halo (70.05%)'"
      ]
     },
     "metadata": {},
     "output_type": "display_data"
    },
    {
     "name": "stdout",
     "output_type": "stream",
     "text": [
      "<class 'mediapipe.python.solution_base.SolutionOutputs'>\n",
      "halo\n",
      "halo (89.75%)\n"
     ]
    },
    {
     "data": {
      "text/plain": [
       "'halo (89.75%)'"
      ]
     },
     "metadata": {},
     "output_type": "display_data"
    },
    {
     "name": "stdout",
     "output_type": "stream",
     "text": [
      "<class 'mediapipe.python.solution_base.SolutionOutputs'>\n",
      "halo\n",
      "halo (87.78%)\n"
     ]
    },
    {
     "data": {
      "text/plain": [
       "'halo (87.78%)'"
      ]
     },
     "metadata": {},
     "output_type": "display_data"
    },
    {
     "name": "stdout",
     "output_type": "stream",
     "text": [
      "<class 'mediapipe.python.solution_base.SolutionOutputs'>\n",
      "halo\n",
      "halo (82.83%)\n"
     ]
    },
    {
     "data": {
      "text/plain": [
       "'halo (82.83%)'"
      ]
     },
     "metadata": {},
     "output_type": "display_data"
    }
   ],
   "source": [
    "sequence = []\n",
    "sentence = []\n",
    "predictions = []\n",
    "threshold = 0.5\n",
    "\n",
    "cap = cv2.VideoCapture(0)\n",
    "\n",
    "with mp_holistic.Holistic(min_detection_confidence=0.3, min_tracking_confidence=0.3) as holistic:\n",
    "    while cap.isOpened():\n",
    "\n",
    "        ret, frame = cap.read()\n",
    "\n",
    "        image, results = mediapipe_detection(frame, holistic)\n",
    "        print(results)\n",
    "        \n",
    "        keypoints = extract_keypoints(results)\n",
    "        sequence.append(keypoints)\n",
    "        sequence = sequence[-30:]\n",
    "        \n",
    "        if len(sequence) == 30:\n",
    "            res = model.predict(np.expand_dims(sequence, axis=0))[0]\n",
    "            print(actions[np.argmax(res)])\n",
    "            \n",
    "            confidence = res[np.argmax(res)]\n",
    "            caption = f\"{actions[np.argmax(res)]} ({confidence * 100:.2f}%)\"\n",
    "            print(caption)\n",
    "            \n",
    "            predictions.append(np.argmax(res))\n",
    "            \n",
    "            if np.unique(predictions[-10:])[0]==np.argmax(res): \n",
    "                if res[np.argmax(res)] > threshold: \n",
    "                    \n",
    "                    if len(sentence) > 0: \n",
    "                        if actions[np.argmax(res)] != sentence[-1]:\n",
    "                            sentence.append(actions[np.argmax(res)])\n",
    "                    else:\n",
    "                        sentence.append(actions[np.argmax(res)])\n",
    "                    \n",
    "                    confidence = res[np.argmax(res)]\n",
    "                    caption = f\"{actions[np.argmax(res)]} ({confidence * 100:.2f}%)\"\n",
    "                    display(caption)\n",
    "\n",
    "            if len(sentence) > 5: \n",
    "                sentence = sentence[-5:]\n",
    "\n",
    "        height, width, channels = image.shape\n",
    "        text_size, _ = cv2.getTextSize(' '.join(sentence), cv2.FONT_HERSHEY_SIMPLEX, 1, 2)\n",
    "        text_width = text_size[0]\n",
    "        x = (width - text_width) // 2\n",
    "        cv2.putText(image, ' '.join(sentence), (x, height - 40), \n",
    "        cv2.FONT_HERSHEY_SIMPLEX, 1, (255, 255, 255), 2, cv2.LINE_AA)\n",
    "        \n",
    "        cv2.imshow('OpenCV Feed', image)\n",
    "\n",
    "        if cv2.waitKey(1) & 0xFF == ord('q'):\n",
    "            break\n",
    "    cap.release()\n",
    "    cv2.destroyAllWindows()"
   ]
  },
  {
   "cell_type": "code",
   "execution_count": null,
   "id": "34bc4cd3",
   "metadata": {},
   "outputs": [],
   "source": []
  },
  {
   "cell_type": "code",
   "execution_count": null,
   "id": "e1a00e30",
   "metadata": {},
   "outputs": [],
   "source": []
  }
 ],
 "metadata": {
  "kernelspec": {
   "display_name": "Python 3 (ipykernel)",
   "language": "python",
   "name": "python3"
  },
  "language_info": {
   "codemirror_mode": {
    "name": "ipython",
    "version": 3
   },
   "file_extension": ".py",
   "mimetype": "text/x-python",
   "name": "python",
   "nbconvert_exporter": "python",
   "pygments_lexer": "ipython3",
   "version": "3.9.13"
  }
 },
 "nbformat": 4,
 "nbformat_minor": 5
}
