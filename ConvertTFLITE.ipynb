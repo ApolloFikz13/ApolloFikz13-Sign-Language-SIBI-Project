{
 "cells": [
  {
   "cell_type": "code",
   "execution_count": 9,
   "id": "19526c1e",
   "metadata": {},
   "outputs": [
    {
     "name": "stdout",
     "output_type": "stream",
     "text": [
      "INFO:tensorflow:Assets written to: C:\\Users\\victus\\AppData\\Local\\Temp\\tmpu1mlyrtl\\assets\n"
     ]
    },
    {
     "name": "stderr",
     "output_type": "stream",
     "text": [
      "INFO:tensorflow:Assets written to: C:\\Users\\victus\\AppData\\Local\\Temp\\tmpu1mlyrtl\\assets\n"
     ]
    },
    {
     "name": "stdout",
     "output_type": "stream",
     "text": [
      "TensorFlow Lite model saved\n"
     ]
    }
   ],
   "source": [
    "import tensorflow as tf\n",
    "\n",
    "model = tf.keras.models.load_model('realtimev7.h5')\n",
    "converter = tf.lite.TFLiteConverter.from_keras_model(model)\n",
    "converter.target_spec.supported_ops = [tf.lite.OpsSet.TFLITE_BUILTINS, tf.lite.OpsSet.SELECT_TF_OPS]\n",
    "tflite_model = converter.convert()\n",
    "\n",
    "# Save the TensorFlow Lite model to a file\n",
    "with open('SIBImotionV1.tflite', 'wb') as f:\n",
    "    f.write(tflite_model)\n",
    "\n",
    "print('TensorFlow Lite model saved')"
   ]
  },
  {
   "cell_type": "code",
   "execution_count": 13,
   "id": "60f40074",
   "metadata": {},
   "outputs": [
    {
     "name": "stdout",
     "output_type": "stream",
     "text": [
      "Input Data Type: <class 'numpy.float32'>\n",
      "Input Data Shape: [  1  30 126]\n"
     ]
    }
   ],
   "source": [
    "import tensorflow as tf\n",
    "\n",
    "# Load the TensorFlow Lite model\n",
    "interpreter = tf.lite.Interpreter(model_path='SIBImotionV1.tflite')\n",
    "interpreter.allocate_tensors()\n",
    "\n",
    "# Get the details of the input tensor\n",
    "input_details = interpreter.get_input_details()\n",
    "input_dtype = input_details[0]['dtype']\n",
    "\n",
    "# Get the details of the input tensor\n",
    "input_details = interpreter.get_input_details()\n",
    "input_shape = input_details[0]['shape']\n",
    "\n",
    "print('Input Data Type:', input_dtype)\n",
    "print('Input Data Shape:', input_shape)"
   ]
  },
  {
   "cell_type": "code",
   "execution_count": null,
   "id": "798b0857",
   "metadata": {},
   "outputs": [],
   "source": []
  }
 ],
 "metadata": {
  "kernelspec": {
   "display_name": "Python 3 (ipykernel)",
   "language": "python",
   "name": "python3"
  },
  "language_info": {
   "codemirror_mode": {
    "name": "ipython",
    "version": 3
   },
   "file_extension": ".py",
   "mimetype": "text/x-python",
   "name": "python",
   "nbconvert_exporter": "python",
   "pygments_lexer": "ipython3",
   "version": "3.9.13"
  }
 },
 "nbformat": 4,
 "nbformat_minor": 5
}
